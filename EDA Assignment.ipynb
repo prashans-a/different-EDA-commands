{
 "cells": [
  {
   "cell_type": "code",
   "execution_count": 17,
   "id": "78ba255f",
   "metadata": {},
   "outputs": [],
   "source": [
    "import numpy as np\n",
    "import pandas as pd\n",
    "import seaborn as sns\n",
    "import matplotlib.pyplot as plt"
   ]
  },
  {
   "cell_type": "code",
   "execution_count": 18,
   "id": "07c77e15",
   "metadata": {},
   "outputs": [
    {
     "data": {
      "text/html": [
       "<div>\n",
       "<style scoped>\n",
       "    .dataframe tbody tr th:only-of-type {\n",
       "        vertical-align: middle;\n",
       "    }\n",
       "\n",
       "    .dataframe tbody tr th {\n",
       "        vertical-align: top;\n",
       "    }\n",
       "\n",
       "    .dataframe thead th {\n",
       "        text-align: right;\n",
       "    }\n",
       "</style>\n",
       "<table border=\"1\" class=\"dataframe\">\n",
       "  <thead>\n",
       "    <tr style=\"text-align: right;\">\n",
       "      <th></th>\n",
       "      <th>Crop</th>\n",
       "      <th>State</th>\n",
       "      <th>Cost of Cultivation</th>\n",
       "      <th>Cost of Cultivation_C2</th>\n",
       "      <th>Cost of Production_C2</th>\n",
       "      <th>Yield</th>\n",
       "      <th>Year</th>\n",
       "    </tr>\n",
       "  </thead>\n",
       "  <tbody>\n",
       "    <tr>\n",
       "      <th>0</th>\n",
       "      <td>ARHAR</td>\n",
       "      <td>Uttar Pradesh</td>\n",
       "      <td>9794.05</td>\n",
       "      <td>23076.74</td>\n",
       "      <td>1941.55</td>\n",
       "      <td>9.83</td>\n",
       "      <td>1998</td>\n",
       "    </tr>\n",
       "    <tr>\n",
       "      <th>1</th>\n",
       "      <td>ARHAR</td>\n",
       "      <td>Karnataka</td>\n",
       "      <td>10593.15</td>\n",
       "      <td>16528.68</td>\n",
       "      <td>2172.46</td>\n",
       "      <td>7.47</td>\n",
       "      <td>2001</td>\n",
       "    </tr>\n",
       "    <tr>\n",
       "      <th>2</th>\n",
       "      <td>ARHAR</td>\n",
       "      <td>Gujarat</td>\n",
       "      <td>13468.82</td>\n",
       "      <td>19551.90</td>\n",
       "      <td>1898.30</td>\n",
       "      <td>9.59</td>\n",
       "      <td>1998</td>\n",
       "    </tr>\n",
       "    <tr>\n",
       "      <th>3</th>\n",
       "      <td>ARHAR</td>\n",
       "      <td>Andhra Pradesh</td>\n",
       "      <td>17051.66</td>\n",
       "      <td>24171.65</td>\n",
       "      <td>3670.54</td>\n",
       "      <td>6.42</td>\n",
       "      <td>2003</td>\n",
       "    </tr>\n",
       "    <tr>\n",
       "      <th>4</th>\n",
       "      <td>ARHAR</td>\n",
       "      <td>Maharashtra</td>\n",
       "      <td>17130.55</td>\n",
       "      <td>25270.26</td>\n",
       "      <td>2775.80</td>\n",
       "      <td>8.72</td>\n",
       "      <td>2004</td>\n",
       "    </tr>\n",
       "    <tr>\n",
       "      <th>5</th>\n",
       "      <td>COTTON</td>\n",
       "      <td>Maharashtra</td>\n",
       "      <td>23711.44</td>\n",
       "      <td>33116.82</td>\n",
       "      <td>2539.47</td>\n",
       "      <td>12.69</td>\n",
       "      <td>2003</td>\n",
       "    </tr>\n",
       "    <tr>\n",
       "      <th>6</th>\n",
       "      <td>COTTON</td>\n",
       "      <td>Punjab</td>\n",
       "      <td>29047.10</td>\n",
       "      <td>50828.83</td>\n",
       "      <td>2003.76</td>\n",
       "      <td>24.39</td>\n",
       "      <td>2005</td>\n",
       "    </tr>\n",
       "    <tr>\n",
       "      <th>7</th>\n",
       "      <td>COTTON</td>\n",
       "      <td>Andhra Pradesh</td>\n",
       "      <td>29140.77</td>\n",
       "      <td>44756.72</td>\n",
       "      <td>2509.99</td>\n",
       "      <td>17.83</td>\n",
       "      <td>2006</td>\n",
       "    </tr>\n",
       "    <tr>\n",
       "      <th>8</th>\n",
       "      <td>COTTON</td>\n",
       "      <td>Gujarat</td>\n",
       "      <td>29616.09</td>\n",
       "      <td>42070.44</td>\n",
       "      <td>2179.26</td>\n",
       "      <td>19.05</td>\n",
       "      <td>1997</td>\n",
       "    </tr>\n",
       "    <tr>\n",
       "      <th>9</th>\n",
       "      <td>COTTON</td>\n",
       "      <td>Haryana</td>\n",
       "      <td>29918.97</td>\n",
       "      <td>44018.18</td>\n",
       "      <td>2127.35</td>\n",
       "      <td>19.90</td>\n",
       "      <td>2000</td>\n",
       "    </tr>\n",
       "    <tr>\n",
       "      <th>10</th>\n",
       "      <td>GRAM</td>\n",
       "      <td>Rajasthan</td>\n",
       "      <td>8552.69</td>\n",
       "      <td>12610.85</td>\n",
       "      <td>1691.66</td>\n",
       "      <td>6.83</td>\n",
       "      <td>2002</td>\n",
       "    </tr>\n",
       "    <tr>\n",
       "      <th>11</th>\n",
       "      <td>GRAM</td>\n",
       "      <td>Madhya Pradesh</td>\n",
       "      <td>9803.89</td>\n",
       "      <td>16873.17</td>\n",
       "      <td>1551.94</td>\n",
       "      <td>10.29</td>\n",
       "      <td>2006</td>\n",
       "    </tr>\n",
       "    <tr>\n",
       "      <th>12</th>\n",
       "      <td>GRAM</td>\n",
       "      <td>Uttar Pradesh</td>\n",
       "      <td>12833.04</td>\n",
       "      <td>21618.43</td>\n",
       "      <td>1882.68</td>\n",
       "      <td>10.93</td>\n",
       "      <td>2007</td>\n",
       "    </tr>\n",
       "    <tr>\n",
       "      <th>13</th>\n",
       "      <td>GRAM</td>\n",
       "      <td>Maharashtra</td>\n",
       "      <td>12985.95</td>\n",
       "      <td>18679.33</td>\n",
       "      <td>2277.68</td>\n",
       "      <td>8.05</td>\n",
       "      <td>2008</td>\n",
       "    </tr>\n",
       "    <tr>\n",
       "      <th>14</th>\n",
       "      <td>GRAM</td>\n",
       "      <td>Andhra Pradesh</td>\n",
       "      <td>14421.98</td>\n",
       "      <td>26762.09</td>\n",
       "      <td>1559.04</td>\n",
       "      <td>16.69</td>\n",
       "      <td>1999</td>\n",
       "    </tr>\n",
       "    <tr>\n",
       "      <th>15</th>\n",
       "      <td>GROUNDNUT</td>\n",
       "      <td>Karnataka</td>\n",
       "      <td>13647.10</td>\n",
       "      <td>17314.20</td>\n",
       "      <td>3484.01</td>\n",
       "      <td>4.71</td>\n",
       "      <td>1998</td>\n",
       "    </tr>\n",
       "    <tr>\n",
       "      <th>16</th>\n",
       "      <td>GROUNDNUT</td>\n",
       "      <td>Andhra Pradesh</td>\n",
       "      <td>21229.01</td>\n",
       "      <td>30434.61</td>\n",
       "      <td>2554.91</td>\n",
       "      <td>11.97</td>\n",
       "      <td>1997</td>\n",
       "    </tr>\n",
       "    <tr>\n",
       "      <th>17</th>\n",
       "      <td>GROUNDNUT</td>\n",
       "      <td>Tamil Nadu</td>\n",
       "      <td>22507.86</td>\n",
       "      <td>30393.66</td>\n",
       "      <td>2358.00</td>\n",
       "      <td>11.98</td>\n",
       "      <td>1998</td>\n",
       "    </tr>\n",
       "    <tr>\n",
       "      <th>18</th>\n",
       "      <td>GROUNDNUT</td>\n",
       "      <td>Gujarat</td>\n",
       "      <td>22951.28</td>\n",
       "      <td>30114.45</td>\n",
       "      <td>1918.92</td>\n",
       "      <td>13.45</td>\n",
       "      <td>1999</td>\n",
       "    </tr>\n",
       "    <tr>\n",
       "      <th>19</th>\n",
       "      <td>GROUNDNUT</td>\n",
       "      <td>Maharashtra</td>\n",
       "      <td>26078.66</td>\n",
       "      <td>32683.46</td>\n",
       "      <td>3207.35</td>\n",
       "      <td>9.33</td>\n",
       "      <td>2000</td>\n",
       "    </tr>\n",
       "    <tr>\n",
       "      <th>20</th>\n",
       "      <td>MAIZE</td>\n",
       "      <td>Bihar</td>\n",
       "      <td>13513.92</td>\n",
       "      <td>19857.70</td>\n",
       "      <td>404.43</td>\n",
       "      <td>42.95</td>\n",
       "      <td>2001</td>\n",
       "    </tr>\n",
       "    <tr>\n",
       "      <th>21</th>\n",
       "      <td>MAIZE</td>\n",
       "      <td>Karnataka</td>\n",
       "      <td>13792.85</td>\n",
       "      <td>20671.54</td>\n",
       "      <td>581.69</td>\n",
       "      <td>31.10</td>\n",
       "      <td>2006</td>\n",
       "    </tr>\n",
       "    <tr>\n",
       "      <th>22</th>\n",
       "      <td>MAIZE</td>\n",
       "      <td>Rajasthan</td>\n",
       "      <td>14421.46</td>\n",
       "      <td>19810.29</td>\n",
       "      <td>658.77</td>\n",
       "      <td>23.56</td>\n",
       "      <td>2015</td>\n",
       "    </tr>\n",
       "    <tr>\n",
       "      <th>23</th>\n",
       "      <td>MAIZE</td>\n",
       "      <td>Uttar Pradesh</td>\n",
       "      <td>15635.43</td>\n",
       "      <td>21045.11</td>\n",
       "      <td>1387.36</td>\n",
       "      <td>13.70</td>\n",
       "      <td>2014</td>\n",
       "    </tr>\n",
       "    <tr>\n",
       "      <th>24</th>\n",
       "      <td>MAIZE</td>\n",
       "      <td>Andhra Pradesh</td>\n",
       "      <td>25687.09</td>\n",
       "      <td>37801.85</td>\n",
       "      <td>840.58</td>\n",
       "      <td>42.68</td>\n",
       "      <td>2013</td>\n",
       "    </tr>\n",
       "    <tr>\n",
       "      <th>25</th>\n",
       "      <td>MOONG</td>\n",
       "      <td>Orissa</td>\n",
       "      <td>5483.54</td>\n",
       "      <td>8266.98</td>\n",
       "      <td>2614.14</td>\n",
       "      <td>3.01</td>\n",
       "      <td>2012</td>\n",
       "    </tr>\n",
       "    <tr>\n",
       "      <th>26</th>\n",
       "      <td>MOONG</td>\n",
       "      <td>Rajasthan</td>\n",
       "      <td>6204.23</td>\n",
       "      <td>9165.59</td>\n",
       "      <td>2068.67</td>\n",
       "      <td>4.05</td>\n",
       "      <td>2010</td>\n",
       "    </tr>\n",
       "    <tr>\n",
       "      <th>27</th>\n",
       "      <td>MOONG</td>\n",
       "      <td>Karnataka</td>\n",
       "      <td>6440.64</td>\n",
       "      <td>7868.64</td>\n",
       "      <td>5777.48</td>\n",
       "      <td>1.32</td>\n",
       "      <td>2009</td>\n",
       "    </tr>\n",
       "    <tr>\n",
       "      <th>28</th>\n",
       "      <td>MOONG</td>\n",
       "      <td>Andhra Pradesh</td>\n",
       "      <td>6684.18</td>\n",
       "      <td>13209.32</td>\n",
       "      <td>2228.97</td>\n",
       "      <td>5.90</td>\n",
       "      <td>2006</td>\n",
       "    </tr>\n",
       "    <tr>\n",
       "      <th>29</th>\n",
       "      <td>MOONG</td>\n",
       "      <td>Maharashtra</td>\n",
       "      <td>10780.76</td>\n",
       "      <td>15371.45</td>\n",
       "      <td>2261.24</td>\n",
       "      <td>6.70</td>\n",
       "      <td>2005</td>\n",
       "    </tr>\n",
       "    <tr>\n",
       "      <th>30</th>\n",
       "      <td>PADDY</td>\n",
       "      <td>Uttar Pradesh</td>\n",
       "      <td>17022.00</td>\n",
       "      <td>28144.50</td>\n",
       "      <td>732.62</td>\n",
       "      <td>36.61</td>\n",
       "      <td>2003</td>\n",
       "    </tr>\n",
       "    <tr>\n",
       "      <th>31</th>\n",
       "      <td>PADDY</td>\n",
       "      <td>Orissa</td>\n",
       "      <td>17478.05</td>\n",
       "      <td>25909.05</td>\n",
       "      <td>715.04</td>\n",
       "      <td>32.42</td>\n",
       "      <td>2002</td>\n",
       "    </tr>\n",
       "    <tr>\n",
       "      <th>32</th>\n",
       "      <td>PADDY</td>\n",
       "      <td>West Bengal</td>\n",
       "      <td>24731.06</td>\n",
       "      <td>33046.12</td>\n",
       "      <td>731.25</td>\n",
       "      <td>39.04</td>\n",
       "      <td>1998</td>\n",
       "    </tr>\n",
       "    <tr>\n",
       "      <th>33</th>\n",
       "      <td>PADDY</td>\n",
       "      <td>Punjab</td>\n",
       "      <td>25154.75</td>\n",
       "      <td>45291.24</td>\n",
       "      <td>669.86</td>\n",
       "      <td>67.41</td>\n",
       "      <td>2000</td>\n",
       "    </tr>\n",
       "    <tr>\n",
       "      <th>34</th>\n",
       "      <td>PADDY</td>\n",
       "      <td>Andhra Pradesh</td>\n",
       "      <td>29664.84</td>\n",
       "      <td>46450.20</td>\n",
       "      <td>789.90</td>\n",
       "      <td>56.00</td>\n",
       "      <td>2009</td>\n",
       "    </tr>\n",
       "    <tr>\n",
       "      <th>35</th>\n",
       "      <td>RAPESEED AND MUSTARD</td>\n",
       "      <td>Madhya Pradesh</td>\n",
       "      <td>8686.43</td>\n",
       "      <td>17705.93</td>\n",
       "      <td>1279.60</td>\n",
       "      <td>12.94</td>\n",
       "      <td>1998</td>\n",
       "    </tr>\n",
       "    <tr>\n",
       "      <th>36</th>\n",
       "      <td>RAPESEED AND MUSTARD</td>\n",
       "      <td>Rajasthan</td>\n",
       "      <td>11385.70</td>\n",
       "      <td>19259.84</td>\n",
       "      <td>1341.29</td>\n",
       "      <td>13.54</td>\n",
       "      <td>2011</td>\n",
       "    </tr>\n",
       "    <tr>\n",
       "      <th>37</th>\n",
       "      <td>RAPESEED AND MUSTARD</td>\n",
       "      <td>Uttar Pradesh</td>\n",
       "      <td>12774.41</td>\n",
       "      <td>22560.30</td>\n",
       "      <td>1595.56</td>\n",
       "      <td>13.57</td>\n",
       "      <td>2012</td>\n",
       "    </tr>\n",
       "    <tr>\n",
       "      <th>38</th>\n",
       "      <td>RAPESEED AND MUSTARD</td>\n",
       "      <td>Gujarat</td>\n",
       "      <td>13740.64</td>\n",
       "      <td>19083.55</td>\n",
       "      <td>1610.40</td>\n",
       "      <td>11.61</td>\n",
       "      <td>2007</td>\n",
       "    </tr>\n",
       "    <tr>\n",
       "      <th>39</th>\n",
       "      <td>RAPESEED AND MUSTARD</td>\n",
       "      <td>Haryana</td>\n",
       "      <td>14715.27</td>\n",
       "      <td>27507.54</td>\n",
       "      <td>1251.12</td>\n",
       "      <td>19.94</td>\n",
       "      <td>2006</td>\n",
       "    </tr>\n",
       "    <tr>\n",
       "      <th>40</th>\n",
       "      <td>SUGARCANE</td>\n",
       "      <td>Uttar Pradesh</td>\n",
       "      <td>24538.32</td>\n",
       "      <td>45239.51</td>\n",
       "      <td>93.64</td>\n",
       "      <td>448.89</td>\n",
       "      <td>2005</td>\n",
       "    </tr>\n",
       "    <tr>\n",
       "      <th>41</th>\n",
       "      <td>SUGARCANE</td>\n",
       "      <td>Karnataka</td>\n",
       "      <td>55655.44</td>\n",
       "      <td>86765.77</td>\n",
       "      <td>86.53</td>\n",
       "      <td>986.21</td>\n",
       "      <td>2004</td>\n",
       "    </tr>\n",
       "    <tr>\n",
       "      <th>42</th>\n",
       "      <td>SUGARCANE</td>\n",
       "      <td>Andhra Pradesh</td>\n",
       "      <td>56621.16</td>\n",
       "      <td>91442.63</td>\n",
       "      <td>119.72</td>\n",
       "      <td>757.92</td>\n",
       "      <td>2009</td>\n",
       "    </tr>\n",
       "    <tr>\n",
       "      <th>43</th>\n",
       "      <td>SUGARCANE</td>\n",
       "      <td>Maharashtra</td>\n",
       "      <td>57673.60</td>\n",
       "      <td>85801.95</td>\n",
       "      <td>107.56</td>\n",
       "      <td>744.01</td>\n",
       "      <td>2001</td>\n",
       "    </tr>\n",
       "    <tr>\n",
       "      <th>44</th>\n",
       "      <td>SUGARCANE</td>\n",
       "      <td>Tamil Nadu</td>\n",
       "      <td>66335.06</td>\n",
       "      <td>89025.27</td>\n",
       "      <td>85.79</td>\n",
       "      <td>1015.45</td>\n",
       "      <td>2010</td>\n",
       "    </tr>\n",
       "    <tr>\n",
       "      <th>45</th>\n",
       "      <td>WHEAT</td>\n",
       "      <td>Madhya Pradesh</td>\n",
       "      <td>12464.40</td>\n",
       "      <td>22489.75</td>\n",
       "      <td>810.25</td>\n",
       "      <td>23.59</td>\n",
       "      <td>2014</td>\n",
       "    </tr>\n",
       "    <tr>\n",
       "      <th>46</th>\n",
       "      <td>WHEAT</td>\n",
       "      <td>Punjab</td>\n",
       "      <td>17945.58</td>\n",
       "      <td>35423.48</td>\n",
       "      <td>804.80</td>\n",
       "      <td>39.83</td>\n",
       "      <td>2012</td>\n",
       "    </tr>\n",
       "    <tr>\n",
       "      <th>47</th>\n",
       "      <td>WHEAT</td>\n",
       "      <td>Uttar Pradesh</td>\n",
       "      <td>18979.38</td>\n",
       "      <td>31902.74</td>\n",
       "      <td>769.84</td>\n",
       "      <td>34.99</td>\n",
       "      <td>2013</td>\n",
       "    </tr>\n",
       "    <tr>\n",
       "      <th>48</th>\n",
       "      <td>WHEAT</td>\n",
       "      <td>Rajasthan</td>\n",
       "      <td>19119.08</td>\n",
       "      <td>29876.36</td>\n",
       "      <td>683.58</td>\n",
       "      <td>37.19</td>\n",
       "      <td>2015</td>\n",
       "    </tr>\n",
       "  </tbody>\n",
       "</table>\n",
       "</div>"
      ],
      "text/plain": [
       "                    Crop           State  Cost of Cultivation  \\\n",
       "0                  ARHAR   Uttar Pradesh              9794.05   \n",
       "1                  ARHAR       Karnataka             10593.15   \n",
       "2                  ARHAR         Gujarat             13468.82   \n",
       "3                  ARHAR  Andhra Pradesh             17051.66   \n",
       "4                  ARHAR     Maharashtra             17130.55   \n",
       "5                 COTTON     Maharashtra             23711.44   \n",
       "6                 COTTON          Punjab             29047.10   \n",
       "7                 COTTON  Andhra Pradesh             29140.77   \n",
       "8                 COTTON         Gujarat             29616.09   \n",
       "9                 COTTON         Haryana             29918.97   \n",
       "10                  GRAM       Rajasthan              8552.69   \n",
       "11                  GRAM  Madhya Pradesh              9803.89   \n",
       "12                  GRAM   Uttar Pradesh             12833.04   \n",
       "13                  GRAM     Maharashtra             12985.95   \n",
       "14                  GRAM  Andhra Pradesh             14421.98   \n",
       "15             GROUNDNUT       Karnataka             13647.10   \n",
       "16             GROUNDNUT  Andhra Pradesh             21229.01   \n",
       "17             GROUNDNUT      Tamil Nadu             22507.86   \n",
       "18             GROUNDNUT         Gujarat             22951.28   \n",
       "19             GROUNDNUT     Maharashtra             26078.66   \n",
       "20                 MAIZE           Bihar             13513.92   \n",
       "21                 MAIZE       Karnataka             13792.85   \n",
       "22                 MAIZE       Rajasthan             14421.46   \n",
       "23                 MAIZE   Uttar Pradesh             15635.43   \n",
       "24                 MAIZE  Andhra Pradesh             25687.09   \n",
       "25                 MOONG          Orissa              5483.54   \n",
       "26                 MOONG       Rajasthan              6204.23   \n",
       "27                 MOONG       Karnataka              6440.64   \n",
       "28                 MOONG  Andhra Pradesh              6684.18   \n",
       "29                 MOONG     Maharashtra             10780.76   \n",
       "30                 PADDY   Uttar Pradesh             17022.00   \n",
       "31                 PADDY          Orissa             17478.05   \n",
       "32                 PADDY     West Bengal             24731.06   \n",
       "33                 PADDY          Punjab             25154.75   \n",
       "34                 PADDY  Andhra Pradesh             29664.84   \n",
       "35  RAPESEED AND MUSTARD  Madhya Pradesh              8686.43   \n",
       "36  RAPESEED AND MUSTARD       Rajasthan             11385.70   \n",
       "37  RAPESEED AND MUSTARD   Uttar Pradesh             12774.41   \n",
       "38  RAPESEED AND MUSTARD         Gujarat             13740.64   \n",
       "39  RAPESEED AND MUSTARD         Haryana             14715.27   \n",
       "40             SUGARCANE   Uttar Pradesh             24538.32   \n",
       "41             SUGARCANE       Karnataka             55655.44   \n",
       "42             SUGARCANE  Andhra Pradesh             56621.16   \n",
       "43             SUGARCANE     Maharashtra             57673.60   \n",
       "44             SUGARCANE      Tamil Nadu             66335.06   \n",
       "45                 WHEAT  Madhya Pradesh             12464.40   \n",
       "46                 WHEAT          Punjab             17945.58   \n",
       "47                 WHEAT   Uttar Pradesh             18979.38   \n",
       "48                 WHEAT       Rajasthan             19119.08   \n",
       "\n",
       "    Cost of Cultivation_C2  Cost of Production_C2    Yield  Year  \n",
       "0                 23076.74                1941.55     9.83  1998  \n",
       "1                 16528.68                2172.46     7.47  2001  \n",
       "2                 19551.90                1898.30     9.59  1998  \n",
       "3                 24171.65                3670.54     6.42  2003  \n",
       "4                 25270.26                2775.80     8.72  2004  \n",
       "5                 33116.82                2539.47    12.69  2003  \n",
       "6                 50828.83                2003.76    24.39  2005  \n",
       "7                 44756.72                2509.99    17.83  2006  \n",
       "8                 42070.44                2179.26    19.05  1997  \n",
       "9                 44018.18                2127.35    19.90  2000  \n",
       "10                12610.85                1691.66     6.83  2002  \n",
       "11                16873.17                1551.94    10.29  2006  \n",
       "12                21618.43                1882.68    10.93  2007  \n",
       "13                18679.33                2277.68     8.05  2008  \n",
       "14                26762.09                1559.04    16.69  1999  \n",
       "15                17314.20                3484.01     4.71  1998  \n",
       "16                30434.61                2554.91    11.97  1997  \n",
       "17                30393.66                2358.00    11.98  1998  \n",
       "18                30114.45                1918.92    13.45  1999  \n",
       "19                32683.46                3207.35     9.33  2000  \n",
       "20                19857.70                 404.43    42.95  2001  \n",
       "21                20671.54                 581.69    31.10  2006  \n",
       "22                19810.29                 658.77    23.56  2015  \n",
       "23                21045.11                1387.36    13.70  2014  \n",
       "24                37801.85                 840.58    42.68  2013  \n",
       "25                 8266.98                2614.14     3.01  2012  \n",
       "26                 9165.59                2068.67     4.05  2010  \n",
       "27                 7868.64                5777.48     1.32  2009  \n",
       "28                13209.32                2228.97     5.90  2006  \n",
       "29                15371.45                2261.24     6.70  2005  \n",
       "30                28144.50                 732.62    36.61  2003  \n",
       "31                25909.05                 715.04    32.42  2002  \n",
       "32                33046.12                 731.25    39.04  1998  \n",
       "33                45291.24                 669.86    67.41  2000  \n",
       "34                46450.20                 789.90    56.00  2009  \n",
       "35                17705.93                1279.60    12.94  1998  \n",
       "36                19259.84                1341.29    13.54  2011  \n",
       "37                22560.30                1595.56    13.57  2012  \n",
       "38                19083.55                1610.40    11.61  2007  \n",
       "39                27507.54                1251.12    19.94  2006  \n",
       "40                45239.51                  93.64   448.89  2005  \n",
       "41                86765.77                  86.53   986.21  2004  \n",
       "42                91442.63                 119.72   757.92  2009  \n",
       "43                85801.95                 107.56   744.01  2001  \n",
       "44                89025.27                  85.79  1015.45  2010  \n",
       "45                22489.75                 810.25    23.59  2014  \n",
       "46                35423.48                 804.80    39.83  2012  \n",
       "47                31902.74                 769.84    34.99  2013  \n",
       "48                29876.36                 683.58    37.19  2015  "
      ]
     },
     "execution_count": 18,
     "metadata": {},
     "output_type": "execute_result"
    }
   ],
   "source": [
    "a=pd.read_csv('datafile2.csv')\n",
    "a"
   ]
  },
  {
   "cell_type": "code",
   "execution_count": 3,
   "id": "0502f534",
   "metadata": {},
   "outputs": [
    {
     "data": {
      "text/plain": [
       "(49, 7)"
      ]
     },
     "execution_count": 3,
     "metadata": {},
     "output_type": "execute_result"
    }
   ],
   "source": [
    "a.shape"
   ]
  },
  {
   "cell_type": "code",
   "execution_count": 4,
   "id": "77ef52a1",
   "metadata": {},
   "outputs": [
    {
     "data": {
      "text/html": [
       "<div>\n",
       "<style scoped>\n",
       "    .dataframe tbody tr th:only-of-type {\n",
       "        vertical-align: middle;\n",
       "    }\n",
       "\n",
       "    .dataframe tbody tr th {\n",
       "        vertical-align: top;\n",
       "    }\n",
       "\n",
       "    .dataframe thead th {\n",
       "        text-align: right;\n",
       "    }\n",
       "</style>\n",
       "<table border=\"1\" class=\"dataframe\">\n",
       "  <thead>\n",
       "    <tr style=\"text-align: right;\">\n",
       "      <th></th>\n",
       "      <th>Cost of Cultivation</th>\n",
       "      <th>Cost of Cultivation_C2</th>\n",
       "      <th>Cost of Production_C2</th>\n",
       "      <th>Yield</th>\n",
       "      <th>Year</th>\n",
       "    </tr>\n",
       "  </thead>\n",
       "  <tbody>\n",
       "    <tr>\n",
       "      <th>count</th>\n",
       "      <td>49.000000</td>\n",
       "      <td>49.000000</td>\n",
       "      <td>49.000000</td>\n",
       "      <td>49.000000</td>\n",
       "      <td>49.000000</td>\n",
       "    </tr>\n",
       "    <tr>\n",
       "      <th>mean</th>\n",
       "      <td>20363.537347</td>\n",
       "      <td>31364.666735</td>\n",
       "      <td>1620.537755</td>\n",
       "      <td>98.086735</td>\n",
       "      <td>2005.081633</td>\n",
       "    </tr>\n",
       "    <tr>\n",
       "      <th>std</th>\n",
       "      <td>13561.435306</td>\n",
       "      <td>20095.783569</td>\n",
       "      <td>1104.990472</td>\n",
       "      <td>245.293123</td>\n",
       "      <td>5.480407</td>\n",
       "    </tr>\n",
       "    <tr>\n",
       "      <th>min</th>\n",
       "      <td>5483.540000</td>\n",
       "      <td>7868.640000</td>\n",
       "      <td>85.790000</td>\n",
       "      <td>1.320000</td>\n",
       "      <td>1997.000000</td>\n",
       "    </tr>\n",
       "    <tr>\n",
       "      <th>25%</th>\n",
       "      <td>12774.410000</td>\n",
       "      <td>19259.840000</td>\n",
       "      <td>732.620000</td>\n",
       "      <td>9.590000</td>\n",
       "      <td>2000.000000</td>\n",
       "    </tr>\n",
       "    <tr>\n",
       "      <th>50%</th>\n",
       "      <td>17022.000000</td>\n",
       "      <td>25909.050000</td>\n",
       "      <td>1595.560000</td>\n",
       "      <td>13.700000</td>\n",
       "      <td>2005.000000</td>\n",
       "    </tr>\n",
       "    <tr>\n",
       "      <th>75%</th>\n",
       "      <td>24731.060000</td>\n",
       "      <td>35423.480000</td>\n",
       "      <td>2228.970000</td>\n",
       "      <td>36.610000</td>\n",
       "      <td>2009.000000</td>\n",
       "    </tr>\n",
       "    <tr>\n",
       "      <th>max</th>\n",
       "      <td>66335.060000</td>\n",
       "      <td>91442.630000</td>\n",
       "      <td>5777.480000</td>\n",
       "      <td>1015.450000</td>\n",
       "      <td>2015.000000</td>\n",
       "    </tr>\n",
       "  </tbody>\n",
       "</table>\n",
       "</div>"
      ],
      "text/plain": [
       "       Cost of Cultivation  Cost of Cultivation_C2  Cost of Production_C2  \\\n",
       "count            49.000000               49.000000              49.000000   \n",
       "mean          20363.537347            31364.666735            1620.537755   \n",
       "std           13561.435306            20095.783569            1104.990472   \n",
       "min            5483.540000             7868.640000              85.790000   \n",
       "25%           12774.410000            19259.840000             732.620000   \n",
       "50%           17022.000000            25909.050000            1595.560000   \n",
       "75%           24731.060000            35423.480000            2228.970000   \n",
       "max           66335.060000            91442.630000            5777.480000   \n",
       "\n",
       "             Yield         Year  \n",
       "count    49.000000    49.000000  \n",
       "mean     98.086735  2005.081633  \n",
       "std     245.293123     5.480407  \n",
       "min       1.320000  1997.000000  \n",
       "25%       9.590000  2000.000000  \n",
       "50%      13.700000  2005.000000  \n",
       "75%      36.610000  2009.000000  \n",
       "max    1015.450000  2015.000000  "
      ]
     },
     "execution_count": 4,
     "metadata": {},
     "output_type": "execute_result"
    }
   ],
   "source": [
    "a.describe()"
   ]
  },
  {
   "cell_type": "code",
   "execution_count": 5,
   "id": "e54828ed",
   "metadata": {},
   "outputs": [
    {
     "name": "stdout",
     "output_type": "stream",
     "text": [
      "<class 'pandas.core.frame.DataFrame'>\n",
      "RangeIndex: 49 entries, 0 to 48\n",
      "Data columns (total 7 columns):\n",
      " #   Column                  Non-Null Count  Dtype  \n",
      "---  ------                  --------------  -----  \n",
      " 0   Crop                    49 non-null     object \n",
      " 1   State                   49 non-null     object \n",
      " 2   Cost of Cultivation     49 non-null     float64\n",
      " 3   Cost of Cultivation_C2  49 non-null     float64\n",
      " 4   Cost of Production_C2   49 non-null     float64\n",
      " 5   Yield                   49 non-null     float64\n",
      " 6   Year                    49 non-null     int64  \n",
      "dtypes: float64(4), int64(1), object(2)\n",
      "memory usage: 2.8+ KB\n"
     ]
    }
   ],
   "source": [
    "a.info()"
   ]
  },
  {
   "cell_type": "code",
   "execution_count": 6,
   "id": "18b359f6",
   "metadata": {},
   "outputs": [
    {
     "data": {
      "text/plain": [
       "20363.537346938778"
      ]
     },
     "execution_count": 6,
     "metadata": {},
     "output_type": "execute_result"
    }
   ],
   "source": [
    "a['Cost of Cultivation'].mean()"
   ]
  },
  {
   "cell_type": "code",
   "execution_count": 7,
   "id": "48f3be6f",
   "metadata": {},
   "outputs": [
    {
     "data": {
      "text/plain": [
       "Crop\n",
       "ARHAR                     8.406\n",
       "COTTON                   18.772\n",
       "GRAM                     10.558\n",
       "GROUNDNUT                10.288\n",
       "MAIZE                    30.798\n",
       "MOONG                     4.196\n",
       "PADDY                    46.296\n",
       "RAPESEED AND MUSTARD     14.320\n",
       "SUGARCANE               790.496\n",
       "WHEAT                    33.900\n",
       "Name: Yield, dtype: float64"
      ]
     },
     "execution_count": 7,
     "metadata": {},
     "output_type": "execute_result"
    }
   ],
   "source": [
    "c=a.groupby(\"Crop\")['Yield'].mean()\n",
    "c"
   ]
  },
  {
   "cell_type": "code",
   "execution_count": 8,
   "id": "5370d3b8",
   "metadata": {},
   "outputs": [
    {
     "data": {
      "text/plain": [
       "91442.63"
      ]
     },
     "execution_count": 8,
     "metadata": {},
     "output_type": "execute_result"
    }
   ],
   "source": [
    "c=np.percentile(a['Cost of Cultivation_C2'],100)\n",
    "c"
   ]
  },
  {
   "cell_type": "code",
   "execution_count": 9,
   "id": "3361db85",
   "metadata": {},
   "outputs": [
    {
     "data": {
      "text/plain": [
       "<AxesSubplot:xlabel='Year', ylabel='State'>"
      ]
     },
     "execution_count": 9,
     "metadata": {},
     "output_type": "execute_result"
    },
    {
     "data": {
      "image/png": "[encoded data removed]",
      "text/plain": [
       "<Figure size 432x288 with 1 Axes>"
      ]
     },
     "metadata": {
      "needs_background": "light"
     },
     "output_type": "display_data"
    }
   ],
   "source": [
    "sns.barplot(y=a[\"State\"],x=a[\"Year\"])"
   ]
  },
  {
   "cell_type": "code",
   "execution_count": 10,
   "id": "99284080",
   "metadata": {},
   "outputs": [
    {
     "data": {
      "text/plain": [
       "<AxesSubplot:>"
      ]
     },
     "execution_count": 10,
     "metadata": {},
     "output_type": "execute_result"
    },
    {
     "data": {
      "image/png": "[encoded data removed]",
      "text/plain": [
       "<Figure size 432x288 with 2 Axes>"
      ]
     },
     "metadata": {
      "needs_background": "light"
     },
     "output_type": "display_data"
    }
   ],
   "source": [
    "corelation=a.corr()\n",
    "sns.heatmap(corelation, xticklabels=corelation.columns, yticklabels=corelation.columns, annot=True)"
   ]
  },
  {
   "cell_type": "code",
   "execution_count": 11,
   "id": "a654f124",
   "metadata": {},
   "outputs": [
    {
     "data": {
      "text/plain": [
       "<AxesSubplot:xlabel='Year', ylabel='Yield'>"
      ]
     },
     "execution_count": 11,
     "metadata": {},
     "output_type": "execute_result"
    },
    {
     "data": {
      "image/png": "[encoded data removed]",
      "text/plain": [
       "<Figure size 432x288 with 1 Axes>"
      ]
     },
     "metadata": {
      "needs_background": "light"
     },
     "output_type": "display_data"
    }
   ],
   "source": [
    "a.plot.scatter(x=\"Year\",y=\"Yield\",color='red')"
   ]
  },
  {
   "cell_type": "code",
   "execution_count": 12,
   "id": "7e2c0faa",
   "metadata": {},
   "outputs": [
    {
     "data": {
      "text/plain": [
       "Text(0, 0.5, 'Cost of Production')"
      ]
     },
     "execution_count": 12,
     "metadata": {},
     "output_type": "execute_result"
    },
    {
     "data": {
      "image/png": "[encoded data removed]",
      "text/plain": [
       "<Figure size 1080x576 with 1 Axes>"
      ]
     },
     "metadata": {
      "needs_background": "light"
     },
     "output_type": "display_data"
    }
   ],
   "source": [
    "import matplotlib.pyplot as plt\n",
    "import pandas as pd\n",
    "import numpy as np\n",
    "import seaborn as sns\n",
    "p=pd.read_csv(\"datafile2.csv\")\n",
    "plt.figure(figsize=[15,8])\n",
    "plt.bar(p[\"Year\"],p[\"Yield\"], color='maroon',width=0.5)\n",
    "plt.title(\"Average Crop Production\")\n",
    "plt.xlabel('Year')\n",
    "plt.ylabel('Cost of Production')"
   ]
  },
  {
   "cell_type": "code",
   "execution_count": 13,
   "id": "4895de8c",
   "metadata": {},
   "outputs": [
    {
     "data": {
      "text/plain": [
       "Text(0, 0.5, 'State')"
      ]
     },
     "execution_count": 13,
     "metadata": {},
     "output_type": "execute_result"
    },
    {
     "data": {
      "image/png": "[encoded data removed]",
      "text/plain": [
       "<Figure size 1440x576 with 1 Axes>"
      ]
     },
     "metadata": {
      "needs_background": "light"
     },
     "output_type": "display_data"
    }
   ],
   "source": [
    "import matplotlib.pyplot as plt\n",
    "import pandas as pd\n",
    "import numpy as np\n",
    "import seaborn as sns\n",
    "p=pd.read_csv(\"datafile2.csv\")\n",
    "plt.figure(figsize=[20,8])\n",
    "plt.bar(p[\"Crop\"],p[\"State\"], color='orange',width=0.5)\n",
    "plt.title(\"Production Trends\")\n",
    "plt.xlabel('Cost of Production')\n",
    "plt.ylabel('State')"
   ]
  },
  {
   "cell_type": "code",
   "execution_count": 14,
   "id": "53eab57a",
   "metadata": {},
   "outputs": [
    {
     "data": {
      "text/plain": [
       "<seaborn.axisgrid.PairGrid at 0x28d803e0a90>"
      ]
     },
     "execution_count": 14,
     "metadata": {},
     "output_type": "execute_result"
    },
    {
     "data": {
      "image/png": "[encoded data removed]",
      "text/plain": [
       "<Figure size 900x900 with 30 Axes>"
      ]
     },
     "metadata": {
      "needs_background": "light"
     },
     "output_type": "display_data"
    }
   ],
   "source": [
    "sns.pairplot(p)"
   ]
  },
  {
   "cell_type": "code",
   "execution_count": 15,
   "id": "9ec16921",
   "metadata": {},
   "outputs": [
    {
     "data": {
      "text/plain": [
       "Text(0, 0.5, 'State')"
      ]
     },
     "execution_count": 15,
     "metadata": {},
     "output_type": "execute_result"
    },
    {
     "data": {
      "image/png": "[encoded data removed]",
      "text/plain": [
       "<Figure size 1440x576 with 1 Axes>"
      ]
     },
     "metadata": {
      "needs_background": "light"
     },
     "output_type": "display_data"
    }
   ],
   "source": [
    "import matplotlib.pyplot as plt\n",
    "import pandas as pd\n",
    "import numpy as np\n",
    "import seaborn as sns\n",
    "p=pd.read_csv(\"datafile2.csv\")\n",
    "plt.figure(figsize=[20,8])\n",
    "plt.bar(p[\"Year\"],p[\"State\"], color='maroon',width=0.5)\n",
    "plt.title(\"Categorial Features\")\n",
    "plt.xlabel('Year')\n",
    "plt.ylabel('State')"
   ]
  },
  {
   "cell_type": "code",
   "execution_count": 26,
   "id": "269d1943",
   "metadata": {},
   "outputs": [
    {
     "data": {
      "text/plain": [
       "1.9290605320011858"
      ]
     },
     "execution_count": 26,
     "metadata": {},
     "output_type": "execute_result"
    }
   ],
   "source": [
    "p['Cost of Cultivation'].skew()"
   ]
  },
  {
   "cell_type": "code",
   "execution_count": null,
   "id": "ffa431aa",
   "metadata": {},
   "outputs": [],
   "source": []
  },
  {
   "cell_type": "code",
   "execution_count": null,
   "id": "415ce95d",
   "metadata": {},
   "outputs": [],
   "source": []
  }
 ],
 "metadata": {
  "kernelspec": {
   "display_name": "Python 3 (ipykernel)",
   "language": "python",
   "name": "python3"
  },
  "language_info": {
   "codemirror_mode": {
    "name": "ipython",
    "version": 3
   },
   "file_extension": ".py",
   "mimetype": "text/x-python",
   "name": "python",
   "nbconvert_exporter": "python",
   "pygments_lexer": "ipython3",
   "version": "3.9.7"
  }
 },
 "nbformat": 4,
 "nbformat_minor": 5
}
